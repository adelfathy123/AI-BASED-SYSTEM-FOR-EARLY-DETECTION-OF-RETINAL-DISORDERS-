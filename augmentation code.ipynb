{
  "nbformat": 4,
  "nbformat_minor": 0,
  "metadata": {
    "colab": {
      "provenance": []
    },
    "kernelspec": {
      "name": "python3",
      "display_name": "Python 3"
    },
    "language_info": {
      "name": "python"
    }
  },
  "cells": [
    {
      "cell_type": "code",
      "source": [
        "!pip install opencv-python tqdm numpy\n"
      ],
      "metadata": {
        "colab": {
          "base_uri": "https://localhost:8080/"
        },
        "id": "oJpabVEvn9hA",
        "outputId": "874d0081-fdea-4c28-cf47-dc3b08dae660"
      },
      "execution_count": null,
      "outputs": [
        {
          "output_type": "stream",
          "name": "stdout",
          "text": [
            "Requirement already satisfied: opencv-python in /usr/local/lib/python3.10/dist-packages (4.10.0.84)\n",
            "Requirement already satisfied: tqdm in /usr/local/lib/python3.10/dist-packages (4.66.6)\n",
            "Requirement already satisfied: numpy in /usr/local/lib/python3.10/dist-packages (1.26.4)\n"
          ]
        }
      ]
    },
    {
      "cell_type": "code",
      "source": [
        "import cv2\n",
        "import os\n",
        "import numpy as np\n",
        "from pathlib import Path\n",
        "from tqdm import tqdm\n",
        "\n",
        "# Define augmentation functions\n",
        "def mirror(image):\n",
        "    \"\"\"Mirror (Flip) the image horizontally.\"\"\"\n",
        "    return cv2.flip(image, 1)\n",
        "\n",
        "def rotate(image, angle=45):\n",
        "    \"\"\"Rotate the image by the given angle.\"\"\"\n",
        "    (h, w) = image.shape[:2]\n",
        "    center = (w // 2, h // 2)\n",
        "    rotation_matrix = cv2.getRotationMatrix2D(center, angle, 1.0)\n",
        "    return cv2.warpAffine(image, rotation_matrix, (w, h))\n",
        "\n",
        "def histogram_equalization(image):\n",
        "    \"\"\"Apply histogram equalization to enhance the contrast.\"\"\"\n",
        "    if len(image.shape) == 3:  # Check if the image is colored\n",
        "        ycrcb = cv2.cvtColor(image, cv2.COLOR_BGR2YCrCb)\n",
        "        y, cr, cb = cv2.split(ycrcb)\n",
        "        y = cv2.equalizeHist(y)\n",
        "        ycrcb = cv2.merge((y, cr, cb))\n",
        "        return cv2.cvtColor(ycrcb, cv2.COLOR_YCrCb2BGR)\n",
        "    else:  # Grayscale image\n",
        "        return cv2.equalizeHist(image)\n",
        "\n",
        "def blur(image, ksize=5):\n",
        "    \"\"\"Apply Gaussian Blur to the image.\"\"\"\n",
        "    return cv2.GaussianBlur(image, (ksize, ksize), 0)\n",
        "\n",
        "def sharpen(image):\n",
        "    \"\"\"Apply sharpen filter to the image.\"\"\"\n",
        "    kernel = np.array([[0, -1, 0], [-1, 5,-1], [0, -1, 0]])\n",
        "    return cv2.filter2D(image, -1, kernel)\n",
        "\n",
        "# Augmentation pipeline\n",
        "def augment_image(image):\n",
        "    \"\"\"Apply augmentation transformations.\"\"\"\n",
        "    # Path 1: Rotate the original image\n",
        "    rotated_image = rotate(image)\n",
        "    rotated_histogram = histogram_equalization(rotated_image)\n",
        "    rotated_blurred = blur(rotated_image)\n",
        "    rotated_sharpened = sharpen(rotated_image)\n",
        "\n",
        "    # Path 2: Mirror then Rotate\n",
        "    mirrored_image = mirror(image)\n",
        "    rotated_mirrored_image = rotate(mirrored_image)\n",
        "    mirrored_rotated_histogram = histogram_equalization(rotated_mirrored_image)\n",
        "    mirrored_rotated_blurred = blur(rotated_mirrored_image)\n",
        "    mirrored_rotated_sharpened = sharpen(rotated_mirrored_image)\n",
        "\n",
        "    return {\n",
        "        \"rotated\": rotated_image,\n",
        "        \"rotated_histogram\": rotated_histogram,\n",
        "        \"rotated_blurred\": rotated_blurred,\n",
        "        \"rotated_sharpened\": rotated_sharpened,\n",
        "        \"mirrored_rotated\": rotated_mirrored_image,\n",
        "        \"mirrored_rotated_histogram\": mirrored_rotated_histogram,\n",
        "        \"mirrored_rotated_blurred\": mirrored_rotated_blurred,\n",
        "        \"mirrored_rotated_sharpened\": mirrored_rotated_sharpened\n",
        "    }\n",
        "\n",
        "# Process dataset\n",
        "def augment_dataset(input_dir, output_dir):\n",
        "    \"\"\"Process and augment images for each class in the dataset.\"\"\"\n",
        "    input_dir = Path(input_dir)\n",
        "    output_dir = Path(output_dir)\n",
        "    output_dir.mkdir(parents=True, exist_ok=True)\n",
        "\n",
        "    # Loop through each class in the dataset\n",
        "    for class_dir in tqdm(list(input_dir.iterdir()), desc=\"Processing classes\"):\n",
        "        if class_dir.is_dir():\n",
        "            class_name = class_dir.name\n",
        "            class_output_dir = output_dir / class_name\n",
        "            class_output_dir.mkdir(parents=True, exist_ok=True)\n",
        "\n",
        "            # Loop through each image in the class folder\n",
        "            for image_path in class_dir.iterdir():\n",
        "                if image_path.suffix.lower() in ['.jpg', '.png', '.jpeg']:\n",
        "                    image = cv2.imread(str(image_path))\n",
        "\n",
        "                    # Apply augmentations\n",
        "                    augmented_images = augment_image(image)\n",
        "\n",
        "                    # Save the original and augmented images\n",
        "                    cv2.imwrite(str(class_output_dir / image_path.name), image)  # Save original\n",
        "                    for key, aug_image in augmented_images.items():\n",
        "                        output_name = f\"{image_path.stem}_{key}.jpg\"\n",
        "                        cv2.imwrite(str(class_output_dir / output_name), aug_image)\n",
        "\n",
        "# Input and output directories\n",
        "input_dataset_path = \"/content/drive/MyDrive/OCTDL\"  # Adjust this to your dataset path\n",
        "output_dataset_path = \"/content/drive/MyDrive/OCTDL after augmentation\"  # Output for augmented images\n",
        "\n",
        "# Apply augmentation\n",
        "augment_dataset(input_dataset_path, output_dataset_path)\n",
        "print(\"Augmentation complete. Check the 'augmented_dataset' directory.\")\n"
      ],
      "metadata": {
        "colab": {
          "base_uri": "https://localhost:8080/"
        },
        "id": "bjZzRhl9qE6V",
        "outputId": "8e980ea4-992d-4560-e2b5-8ba9241cef22"
      },
      "execution_count": null,
      "outputs": [
        {
          "output_type": "stream",
          "name": "stderr",
          "text": [
            "Processing classes: 100%|██████████| 7/7 [05:28<00:00, 46.86s/it]"
          ]
        },
        {
          "output_type": "stream",
          "name": "stdout",
          "text": [
            "Augmentation complete. Check the 'augmented_dataset' directory.\n"
          ]
        },
        {
          "output_type": "stream",
          "name": "stderr",
          "text": [
            "\n"
          ]
        }
      ]
    },
    {
      "cell_type": "code",
      "source": [
        "import shutil\n",
        "shutil.make_archive('augmented_dataset', 'zip', '/content/drive/MyDrive/OCTDL after augmentation')\n"
      ],
      "metadata": {
        "colab": {
          "base_uri": "https://localhost:8080/",
          "height": 35
        },
        "id": "W6wD4NkFrWNn",
        "outputId": "f335f00e-0314-4dbe-b10b-cc4d15ad0372"
      },
      "execution_count": null,
      "outputs": [
        {
          "output_type": "execute_result",
          "data": {
            "text/plain": [
              "'/content/augmented_dataset.zip'"
            ],
            "application/vnd.google.colaboratory.intrinsic+json": {
              "type": "string"
            }
          },
          "metadata": {},
          "execution_count": 5
        }
      ]
    },
    {
      "cell_type": "code",
      "source": [],
      "metadata": {
        "id": "A5coUn8fwpl3"
      },
      "execution_count": null,
      "outputs": []
    }
  ]
}